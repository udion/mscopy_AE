{
 "cells": [
  {
   "cell_type": "code",
   "execution_count": null,
   "metadata": {},
   "outputs": [],
   "source": [
    "import random\n",
    "import torch\n",
    "import torch.nn as nn\n",
    "import torch.nn.parallel\n",
    "import torch.optim as optim\n",
    "import torchvision.transforms as transforms\n",
    "import torch.nn.functional as F\n",
    "from torch.autograd import Variable\n",
    "\n",
    "import numpy as np\n",
    "import matplotlib.pyplot as plt\n",
    "\n",
    "from torch.utils.data import Dataset, DataLoader\n",
    "from torchvision import transforms, utils\n",
    "import torchvision.datasets as dsets\n",
    "import torchvision\n",
    "\n",
    "random.seed(42)"
   ]
  },
  {
   "cell_type": "markdown",
   "metadata": {},
   "source": [
    "### Designing Encoder (E)"
   ]
  },
  {
   "cell_type": "code",
   "execution_count": null,
   "metadata": {},
   "outputs": [],
   "source": [
    "class resBlock(nn.Module):\n",
    "    def __init__(self, in_channels=64, out_channels=64, k=3, s=1, p=1):\n",
    "        super(resBlock, self).__init__()\n",
    "\n",
    "        self.conv1 = nn.Conv2d(in_channels, out_channels, k, stride=s, padding=p)\n",
    "        self.bn1 = nn.BatchNorm2d(out_channels)\n",
    "        self.conv2 = nn.Conv2d(out_channels, out_channels, k, stride=s, padding=p)\n",
    "        self.bn2 = nn.BatchNorm2d(out_channels)\n",
    "\n",
    "    def forward(self, x):\n",
    "        y = F.relu(self.bn1(self.conv1(x)))\n",
    "        return self.bn2(self.conv2(y)) + x\n",
    "    \n",
    "class resTransposeBlock(nn.Module):\n",
    "    def __init__(self, in_channels=64, out_channels=64, k=3, s=1, p=1):\n",
    "        super(resTransposeBlock, self).__init__()\n",
    "\n",
    "        self.conv1 = nn.ConvTranspose2d(in_channels, out_channels, k, stride=s, padding=p)\n",
    "        self.bn1 = nn.BatchNorm2d(out_channels)\n",
    "        self.conv2 = nn.ConvTranspose2d(out_channels, out_channels, k, stride=s, padding=p)\n",
    "        self.bn2 = nn.BatchNorm2d(out_channels)\n",
    "\n",
    "    def forward(self, x):\n",
    "        y = F.relu(self.bn1(self.conv1(x)))\n",
    "        return self.bn2(self.conv2(y)) + x"
   ]
  },
  {
   "cell_type": "code",
   "execution_count": null,
   "metadata": {},
   "outputs": [],
   "source": [
    "class Encoder(nn.Module):\n",
    "    def __init__(self, n_res_blocks=5):\n",
    "        super(Encoder, self).__init__()\n",
    "        self.n_res_blocks = n_res_blocks\n",
    "        self.conv1 = nn.Conv2d(3, 64, 3, stride=2, padding=1)\n",
    "        for i in range(n_res_blocks):\n",
    "            self.add_module('residual_block_1' + str(i+1), resBlock(in_channels=64, out_channels=64, k=3, s=1, p=1))\n",
    "        self.conv2 = nn.Conv2d(64, 32, 3, stride=2, padding=1)\n",
    "        for i in range(n_res_blocks):\n",
    "            self.add_module('residual_block_2' + str(i+1), resBlock(in_channels=32, out_channels=32, k=3, s=1, p=1))\n",
    "        self.conv3 = nn.Conv2d(32, 8, 3, stride=1, padding=1)\n",
    "        for i in range(n_res_blocks):\n",
    "            self.add_module('residual_block_3' + str(i+1), resBlock(in_channels=8, out_channels=8, k=3, s=1, p=1))\n",
    "        self.conv4 = nn.Conv2d(8, 1, 3, stride=1, padding=1)\n",
    "    \n",
    "    def forward(self, x):\n",
    "        y = self.conv1(x)\n",
    "        for i in range(self.n_res_blocks):\n",
    "            y = self.__getattr__('residual_block_1'+str(i+1))(y)\n",
    "        y = self.conv2(y)\n",
    "        for i in range(self.n_res_blocks):\n",
    "            y = self.__getattr__('residual_block_2'+str(i+1))(y)\n",
    "        y = self.conv3(y)\n",
    "        for i in range(self.n_res_blocks):\n",
    "            y = self.__getattr__('residual_block_3'+str(i+1))(y)\n",
    "        y = self.conv4(y)\n",
    "        return y\n",
    "\n",
    "E1 = Encoder()"
   ]
  },
  {
   "cell_type": "markdown",
   "metadata": {},
   "source": [
    "### Designing Decoder (D)"
   ]
  },
  {
   "cell_type": "code",
   "execution_count": null,
   "metadata": {},
   "outputs": [],
   "source": [
    "class Decoder(nn.Module):\n",
    "    def __init__(self, n_res_blocks=5):\n",
    "        super(Decoder, self).__init__()\n",
    "        self.n_res_blocks = n_res_blocks\n",
    "        self.conv1 = nn.ConvTranspose2d(1, 8, 3, stride=1, padding=1)\n",
    "        for i in range(n_res_blocks):\n",
    "            self.add_module('residual_block_1' + str(i+1), resTransposeBlock(in_channels=8, out_channels=8, k=3, s=1, p=1))\n",
    "        self.conv2 = nn.ConvTranspose2d(8, 32, 3, stride=1, padding=1)\n",
    "        for i in range(n_res_blocks):\n",
    "            self.add_module('residual_block_2' + str(i+1), resTransposeBlock(in_channels=32, out_channels=32, k=3, s=1, p=1))\n",
    "        self.conv3 = nn.ConvTranspose2d(32, 64, 3, stride=2, padding=1)\n",
    "        for i in range(n_res_blocks):\n",
    "            self.add_module('residual_block_3' + str(i+1), resTransposeBlock(in_channels=64, out_channels=64, k=3, s=1, p=1))\n",
    "        self.conv4 = nn.ConvTranspose2d(64, 3, 3, stride=2, padding=1)\n",
    "    \n",
    "    def forward(self, x):\n",
    "        y = self.conv1(x)\n",
    "        for i in range(self.n_res_blocks):\n",
    "            y = self.__getattr__('residual_block_1'+str(i+1))(y)\n",
    "        y = self.conv2(y)\n",
    "        for i in range(self.n_res_blocks):\n",
    "            y = self.__getattr__('residual_block_2'+str(i+1))(y)\n",
    "        y = self.conv3(y)\n",
    "        for i in range(self.n_res_blocks):\n",
    "            y = self.__getattr__('residual_block_3'+str(i+1))(y)\n",
    "        y = self.conv4(y)\n",
    "        return y\n",
    "\n",
    "D1 = Decoder()"
   ]
  },
  {
   "cell_type": "markdown",
   "metadata": {},
   "source": [
    "### Putting it in box, VAE"
   ]
  },
  {
   "cell_type": "code",
   "execution_count": null,
   "metadata": {},
   "outputs": [],
   "source": [
    "class VAE(nn.Module):\n",
    "    def __init__(self, encoder, decoder, batchsz):\n",
    "        super(VAE, self).__init__()\n",
    "        self.E = encoder\n",
    "        self.D = decoder\n",
    "        self.batchsz = batchsz\n",
    "        self._enc_mu = nn.Linear(26*26, 128)\n",
    "        self._enc_log_sigma = nn.Linear(26*26, 128)\n",
    "        self._din_layer = nn.Linear(128, 26*26)\n",
    "        \n",
    "    def _sample_latent(self, h_enc):\n",
    "        '''\n",
    "        Return the latent normal sample z ~ N(mu, sigma^2)\n",
    "        '''\n",
    "        mu = self._enc_mu(h_enc)\n",
    "        log_sigma = self._enc_log_sigma(h_enc)\n",
    "        sigma = torch.exp(log_sigma)\n",
    "        std_z = torch.from_numpy(np.random.normal(0, 1, size=sigma.size())).float()\n",
    "\n",
    "        self.z_mean = mu\n",
    "        self.z_sigma = sigma\n",
    "        return mu + sigma * Variable(std_z, requires_grad=False)  # Reparameterization trick\n",
    "\n",
    "    def forward(self, x):\n",
    "        h_enc = self.E(x)\n",
    "        h_enc = h_enc.view(self.batchsz, 1, -1)\n",
    "        z = self._sample_latent(h_enc)\n",
    "        z = self._din_layer(z)\n",
    "        z = z.view(self.batchsz, 1, 26, 26)\n",
    "        return self.D(z)"
   ]
  },
  {
   "cell_type": "code",
   "execution_count": null,
   "metadata": {},
   "outputs": [],
   "source": [
    "V = VAE(E1, D1, 4)\n",
    "V = V.cuda()"
   ]
  },
  {
   "cell_type": "markdown",
   "metadata": {},
   "source": [
    "### Dataloading and stuff"
   ]
  },
  {
   "cell_type": "code",
   "execution_count": null,
   "metadata": {},
   "outputs": [],
   "source": [
    "mytransform1 = transforms.Compose(\n",
    "    [transforms.RandomCrop((101,101)),\n",
    "     transforms.ToTensor(),\n",
    "     transforms.Normalize((0.5, 0.5, 0.5), (0.5, 0.5, 0.5))])\n",
    "\n",
    "def mynorm2(x):\n",
    "    m1 = torch.min(x)\n",
    "    m2 = torch.max(x)\n",
    "    return (x-m1)/(m2-m1)\n",
    "\n",
    "mytransform2 = transforms.Compose(\n",
    "    [transforms.RandomCrop((101,101)),\n",
    "     transforms.ToTensor(),\n",
    "     transforms.Lambda( lambda x : mynorm2(x))])\n",
    "\n",
    "trainset = dsets.ImageFolder(root='../sample_dataset/train/',transform=mytransform2)\n",
    "trainloader = torch.utils.data.DataLoader(trainset, batch_size=4, shuffle=True, num_workers=2)\n",
    "\n",
    "# functions to show an image\n",
    "def imshow(img):\n",
    "    #img = img / 2 + 0.5 \n",
    "    npimg = img.numpy()\n",
    "    plt.imshow(np.transpose(npimg, (1, 2, 0)))\n",
    "    \n",
    "def imshow2(img):\n",
    "    m1 = torch.min(img)\n",
    "    m2 = torch.max(img)\n",
    "    img = (img-m1)/(m2-m1)\n",
    "    npimg = img.numpy()\n",
    "    plt.imshow(np.transpose(npimg, (1, 2, 0)))\n",
    "\n",
    "# get some random training images\n",
    "dataiter = iter(trainloader)\n",
    "images, labels = next(dataiter) #all the images under the same 'unlabeled' folder\n",
    "print(labels)\n",
    "# show images\n",
    "imshow(torchvision.utils.make_grid(images))"
   ]
  },
  {
   "cell_type": "markdown",
   "metadata": {},
   "source": [
    "### training thingy"
   ]
  },
  {
   "cell_type": "code",
   "execution_count": null,
   "metadata": {},
   "outputs": [],
   "source": [
    "def latent_loss(z_mean, z_stddev):\n",
    "    mean_sq = z_mean * z_mean\n",
    "    stddev_sq = z_stddev * z_stddev\n",
    "    return 0.5 * torch.mean(mean_sq + stddev_sq - torch.log(stddev_sq) - 1)"
   ]
  },
  {
   "cell_type": "code",
   "execution_count": null,
   "metadata": {},
   "outputs": [],
   "source": [
    "def eval_model(model, dataloader):\n",
    "    X, _ = next(dataloader)\n",
    "    print('input looks like ...')\n",
    "    plt.figure()\n",
    "    imshow(torchvision.utils.make_grid(X))\n",
    "    \n",
    "    X = Variable(X)\n",
    "    Y = model(X)\n",
    "    print('output looks like ...')\n",
    "    plt.figure()\n",
    "    imshow2(torchvision.utils.make_grid(Y.data))"
   ]
  },
  {
   "cell_type": "code",
   "execution_count": null,
   "metadata": {},
   "outputs": [],
   "source": [
    "def train(model, dataloader, rec_interval=2, disp_interval=2,eval_interval=1):\n",
    "    nepoch = 10\n",
    "    n_iter = 10\n",
    "    Criterion = nn.MSELoss()\n",
    "    optimizer = optim.Adam(model.parameters(), lr=1e-4)\n",
    "    loss_track = []\n",
    "    for eph in range(nepoch):\n",
    "        print('starting epoch {} ...'.format(eph))\n",
    "        for i in range(n_iter):\n",
    "            X, _ = next(dataloader)\n",
    "            X = Variable(X)\n",
    "            optimizer.zero_grad()\n",
    "            reconX = model(X)\n",
    "            KLTerm = latent_loss(model.z_mean, model.z_sigma)\n",
    "            reconTerm = Criterion(reconX, X)\n",
    "            loss = reconTerm + KLTerm\n",
    "            loss.backward()\n",
    "            optimizer.step()\n",
    "            \n",
    "            if i%rec_interval == 0:\n",
    "                loss_track.append(loss.data[0])\n",
    "            if i%disp_interval == 0:\n",
    "                print('epoch : {}, iter : {}, KLterm : {}, reconTerm : {}, totalLoss : {}'.format(eph, i, KLTerm.data[0], reconTerm.data[0], loss.data[0]))\n",
    "        \n",
    "        if eph%eval_interval == 0:\n",
    "            print('after epoch {} ...'.format(eph))\n",
    "            eval_model(model, dataloader)\n",
    "    return loss_track"
   ]
  },
  {
   "cell_type": "code",
   "execution_count": null,
   "metadata": {},
   "outputs": [],
   "source": [
    "loss_track = train(V, dataiter)"
   ]
  },
  {
   "cell_type": "code",
   "execution_count": null,
   "metadata": {},
   "outputs": [],
   "source": [
    "plt.plot(loss_track)"
   ]
  }
 ],
 "metadata": {
  "kernelspec": {
   "display_name": "Python 3",
   "language": "python",
   "name": "python3"
  },
  "language_info": {
   "codemirror_mode": {
    "name": "ipython",
    "version": 3
   },
   "file_extension": ".py",
   "mimetype": "text/x-python",
   "name": "python",
   "nbconvert_exporter": "python",
   "pygments_lexer": "ipython3",
   "version": "3.5.4"
  }
 },
 "nbformat": 4,
 "nbformat_minor": 2
}
